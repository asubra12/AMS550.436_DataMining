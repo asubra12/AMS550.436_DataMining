{
 "cells": [
  {
   "cell_type": "markdown",
   "metadata": {
    "slideshow": {
     "slide_type": "slide"
    }
   },
   "source": [
    "<hr/>\n",
    "\n",
    "#Data Mining [EN.550.436]\n",
    "**Tamás Budavári** - budavari@jhu.edu <br/>\n",
    "**Assignment #1** - Sept 26, 2016\n",
    "\n",
    "\n",
    "<hr/>"
   ]
  },
  {
   "cell_type": "markdown",
   "metadata": {
    "slideshow": {
     "slide_type": "slide"
    }
   },
   "source": [
    "<h1><font color=\"darkblue\">Assignment #1</font></h1>\n",
    "\n",
    "#### Deadline\n",
    "Homework is due by 11am on Wednesday, October 5, and should be submitted on Blackboard. Don't wait till the last minute!\n",
    "\n",
    "####  Work alone!\n",
    "Please work on you own on these assignments! "
   ]
  },
  {
   "cell_type": "markdown",
   "metadata": {},
   "source": [
    "### Problem 1\n",
    "\n",
    "- Characterize the data set in this [CSV](A1-Problem1.csv) file using descriptive statistics. This comma-separated separated file contains just 1 column with 1000 rows.\n",
    "\n",
    "> 0. Load data, e.g., using pandas (1 pt)\n",
    "> 0. Calculate the relevant quantitative measures (2 pts)\n",
    "> 0. Create informative illustration that help better understand the data (1 pt)\n",
    "> 0. Summarize your findings with your own words (1 pt)\n",
    "\n",
    "> Total of 5 points"
   ]
  },
  {
   "cell_type": "markdown",
   "metadata": {},
   "source": [
    "### Problem 2\n",
    "\n",
    "- Fit functions to the dataset of (x,y) points in this [CSV](A1-Problem2.csv) file of 3 columns $(x,y,\\sigma_y)$ and hundreds of rows.\n",
    "\n",
    ">0. Fit a line assuming the same measurement errors in $y$ (1 pt)\n",
    ">0. Fit a line assuming different Gaussian errors with $\\sigma_y$ uncertainties in $y$ (1 pt)\n",
    ">0. Repeat the homoscedastic fit after eliminating any significant outliers (1 pt)\n",
    ">0. Fit another function of your choice to the same data (1 pt)\n",
    ">0. Compare the best-fit functions and evaluate them on a grid of 500 points in the $[-6,10]$ interval (1pt)\n",
    "\n",
    "> Total of 5 points\n",
    "\n",
    "% Check picture for proof of best fit function.\n"
   ]
  },
  {
   "cell_type": "markdown",
   "metadata": {},
   "source": [
    "### Problem 3\n",
    "\n",
    "- Characterize the 6-dimensional dataset in the [CSV](A1-Problem3.csv) file using Principal Component Analysis\n",
    "\n",
    ">0. Scree plot: decide on number of components to keep (2 pts)\n",
    ">0. Plot the relevant principal components (1 pt)\n",
    ">0. Use whitening to further explore the data (1 pt)\n",
    ">0. Describe with your words what you learnt about the dataset (1 pt)\n",
    "\n",
    "> Total of 5 points"
   ]
  }
 ],
 "metadata": {
  "kernelspec": {
   "display_name": "Python 3",
   "language": "python",
   "name": "python3"
  },
  "language_info": {
   "codemirror_mode": {
    "name": "ipython",
    "version": 3.0
   },
   "file_extension": ".py",
   "mimetype": "text/x-python",
   "name": "python",
   "nbconvert_exporter": "python",
   "pygments_lexer": "ipython3",
   "version": "3.4.3"
  }
 },
 "nbformat": 4,
 "nbformat_minor": 0
}